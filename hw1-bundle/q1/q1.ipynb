{
 "cells": [
  {
   "cell_type": "code",
   "execution_count": 14,
   "metadata": {},
   "outputs": [
    {
     "name": "stderr",
     "output_type": "stream",
     "text": [
      "Exception in thread \"serve RDD 13\" java.net.SocketTimeoutException: Accept timed out\n",
      "\tat java.net.PlainSocketImpl.socketAccept(Native Method)\n",
      "\tat java.net.AbstractPlainSocketImpl.accept(AbstractPlainSocketImpl.java:535)\n",
      "\tat java.net.ServerSocket.implAccept(ServerSocket.java:545)\n",
      "\tat java.net.ServerSocket.accept(ServerSocket.java:513)\n",
      "\tat org.apache.spark.security.SocketAuthServer$$anon$1.run(SocketAuthServer.scala:65)\n",
      "                                                                                \r"
     ]
    }
   ],
   "source": [
    "from pyspark.sql import *\n",
    "from pyspark.sql.functions import *\n",
    "from pyspark import SparkContext\n",
    "import pandas as pd\n",
    "\n",
    "import itertools\n",
    "\n",
    "#if __name__ == '__main__':\n",
    "# create the Spark Session\n",
    "spark = SparkSession.builder.getOrCreate()\n",
    "\n",
    "sc = SparkContext.getOrCreate()\n",
    "lines = sc.textFile('data/soc-LiveJournal1Adj.txt')\n",
    "lines = lines.map(lambda line:line.split())\n",
    "friends = lines.filter(lambda x:len(x)==2).map(lambda x:(x[0],x[1].split(','))) # map friends to user\n",
    "\n",
    "# create a list of direct friends and mutual friends\n",
    "directFriends = friends.flatMap(lambda data:[((data[0],friend), -1000000) for friend in data[1]]) # -1000000 is used to differentiate direct friends from mutual friends\n",
    "mutualFriends = friends.flatMap(lambda data: [(pair, 1) for pair in itertools.permutations(data[1], 2)]) # map pairs of friends\n",
    "fullList = directFriends.union(mutualFriends) # combine direct and mutual friends\n",
    "\n",
    "# count the number of mutual friends\n",
    "fullList = fullList.reduceByKey(lambda x,y: x+y)\n",
    "mutualCount = fullList.filter(lambda x:x[1]>0) # filter out direct friends\n",
    "mutualCount = mutualCount.map(lambda x:(x[0][0],(x[0][1], x[1]))) # map to user and number of mutual friends\n",
    "mutualCount = mutualCount.groupByKey().mapValues(list) # group by user\n",
    "\n",
    "# sort the list of recommendations\n",
    "# If there are recommended users with the same number of mutual friends, then output those user IDs in numerically ascending order.\n",
    "# First sort by number of mutual friends, then by user ID\n",
    "mutualCount = mutualCount.mapValues(lambda recommendations: sorted(recommendations, key=lambda x: (-x[1], x[0]))[:10]) # sort by number of mutual friends\n",
    "\n",
    "#mutualCount_sort = mutualCount_sort.map(lambda x:(x[0], [i[0] for i in x[1]])) \n",
    "active = mutualCount.collect()  # collect the list of recommendations\n",
    "\n",
    "# output the result\n",
    "for i in range(len(active)):\n",
    "        active[i] = str(active[i][0]) + \"\\t\" + \",\".join(str(item) for item in active[i][1])\n",
    "lonely = lines.filter(lambda x:len(x)==1).flatMap(lambda x:x).collect()\n",
    "complete = active + lonely\n",
    "sc.parallelize(complete).repartition(1).saveAsTextFile('output')\n",
    "sc.stop()\n"
   ]
  },
  {
   "cell_type": "code",
   "execution_count": 6,
   "metadata": {},
   "outputs": [],
   "source": [
    "# Clear Spark Context\n",
    "sc.stop()\n",
    "\n",
    "# Stop Spark Session\n",
    "spark.stop()"
   ]
  },
  {
   "cell_type": "code",
   "execution_count": 15,
   "metadata": {},
   "outputs": [
    {
     "data": {
      "text/html": [
       "<div>\n",
       "<style scoped>\n",
       "    .dataframe tbody tr th:only-of-type {\n",
       "        vertical-align: middle;\n",
       "    }\n",
       "\n",
       "    .dataframe tbody tr th {\n",
       "        vertical-align: top;\n",
       "    }\n",
       "\n",
       "    .dataframe thead th {\n",
       "        text-align: right;\n",
       "    }\n",
       "</style>\n",
       "<table border=\"1\" class=\"dataframe\">\n",
       "  <thead>\n",
       "    <tr style=\"text-align: right;\">\n",
       "      <th></th>\n",
       "      <th>User</th>\n",
       "      <th>Recommendations</th>\n",
       "    </tr>\n",
       "  </thead>\n",
       "  <tbody>\n",
       "    <tr>\n",
       "      <th>0</th>\n",
       "      <td>39721</td>\n",
       "      <td>('22589', 2),('3937', 2),('45992', 2),('4738',...</td>\n",
       "    </tr>\n",
       "    <tr>\n",
       "      <th>1</th>\n",
       "      <td>37010</td>\n",
       "      <td>('10072', 13),('36679', 12),('36905', 12),('10...</td>\n",
       "    </tr>\n",
       "    <tr>\n",
       "      <th>2</th>\n",
       "      <td>12628</td>\n",
       "      <td>('12626', 2),('12631', 2),('12641', 2),('12649...</td>\n",
       "    </tr>\n",
       "    <tr>\n",
       "      <th>3</th>\n",
       "      <td>10240</td>\n",
       "      <td>('1100', 14),('27736', 11),('439', 9),('23305'...</td>\n",
       "    </tr>\n",
       "    <tr>\n",
       "      <th>4</th>\n",
       "      <td>1698</td>\n",
       "      <td>('1703', 8),('7466', 6),('909', 6),('24456', 5...</td>\n",
       "    </tr>\n",
       "  </tbody>\n",
       "</table>\n",
       "</div>"
      ],
      "text/plain": [
       "    User                                    Recommendations\n",
       "0  39721  ('22589', 2),('3937', 2),('45992', 2),('4738',...\n",
       "1  37010  ('10072', 13),('36679', 12),('36905', 12),('10...\n",
       "2  12628  ('12626', 2),('12631', 2),('12641', 2),('12649...\n",
       "3  10240  ('1100', 14),('27736', 11),('439', 9),('23305'...\n",
       "4   1698  ('1703', 8),('7466', 6),('909', 6),('24456', 5..."
      ]
     },
     "execution_count": 15,
     "metadata": {},
     "output_type": "execute_result"
    }
   ],
   "source": [
    "# Read output\n",
    "output = pd.read_csv('output/part-00000', sep='\\t', header=None)\n",
    "output.columns = ['User', 'Recommendations']\n",
    "output.head()"
   ]
  },
  {
   "cell_type": "code",
   "execution_count": 16,
   "metadata": {},
   "outputs": [
    {
     "data": {
      "text/plain": [
       "array([\"('27552', 4),('27573', 3),('27574', 3),('27589', 3),('27590', 3),('27600', 3),('27617', 3),('27620', 3),('27667', 3),('32072', 3)\"],\n",
       "      dtype=object)"
      ]
     },
     "execution_count": 16,
     "metadata": {},
     "output_type": "execute_result"
    }
   ],
   "source": [
    "# Extract recommendations for the following users: 924, 8941, 8942, 9019, 9020, 9021, 9022, 9990, 9992, 9993\n",
    "users = [924, 8941, 8942, 9019, 9020, 9021, 9022, 9990, 9992, 9993, 11]\n",
    "selected = output[output['User'].isin(users)]\n",
    "# Output USER ID == 11\n",
    "selected[selected['User'] == 11]['Recommendations'].values"
   ]
  },
  {
   "cell_type": "code",
   "execution_count": 19,
   "metadata": {},
   "outputs": [
    {
     "data": {
      "text/plain": [
       "array([\"('9020', 3),('9016', 2),('9017', 2),('9022', 2),('317', 1),('9023', 1)\"],\n",
       "      dtype=object)"
      ]
     },
     "execution_count": 19,
     "metadata": {},
     "output_type": "execute_result"
    }
   ],
   "source": [
    "selected[selected['User'] == 9021]['Recommendations'].values"
   ]
  }
 ],
 "metadata": {
  "kernelspec": {
   "display_name": "Python 3",
   "language": "python",
   "name": "python3"
  },
  "language_info": {
   "codemirror_mode": {
    "name": "ipython",
    "version": 3
   },
   "file_extension": ".py",
   "mimetype": "text/x-python",
   "name": "python",
   "nbconvert_exporter": "python",
   "pygments_lexer": "ipython3",
   "version": "3.10.8"
  }
 },
 "nbformat": 4,
 "nbformat_minor": 2
}
