{
 "cells": [
  {
   "cell_type": "markdown",
   "metadata": {},
   "source": [
    "Three sanity checks are provided and they should be helpful when you progress: \n",
    "* There are 647 frequent items after 1st pass (|L1| = 647),\n",
    "* There are 1334 frequent pairs after 2nd pass (|L2| = 1334) and,\n",
    "* The top 5 pairs you should produce in part (d) all have confidence scores greater than 0.985"
   ]
  },
  {
   "cell_type": "code",
   "execution_count": 92,
   "metadata": {},
   "outputs": [
    {
     "name": "stdout",
     "output_type": "stream",
     "text": [
      "647\n",
      "1334\n",
      "{('DAI62779', 'ELE17451'): 1592, ('FRO40251', 'SNA80324'): 1412, ('DAI75645', 'FRO40251'): 1254, ('FRO40251', 'GRO85051'): 1213, ('DAI62779', 'GRO73461'): 1139}\n",
      "{('DAI93865', 'FRO40251'): 1.0, ('GRO85051', 'FRO40251'): 0.999176276771005, ('GRO38636', 'FRO40251'): 0.9906542056074766, ('ELE12951', 'FRO40251'): 0.9905660377358491, ('DAI88079', 'FRO40251'): 0.9867256637168141}\n",
      "{('DAI75645', 'FRO40251', 'SNA80324'): 550, ('DAI62779', 'FRO40251', 'SNA80324'): 476, ('FRO40251', 'GRO85051', 'SNA80324'): 471, ('DAI62779', 'ELE92920', 'SNA18336'): 432, ('DAI62779', 'DAI75645', 'SNA80324'): 421}\n",
      "{('DAI62779', 'DAI88079', 'FRO40251'): 1.0, ('ELE17451', 'GRO85051', 'FRO40251'): 1.0, ('ELE26917', 'GRO85051', 'FRO40251'): 1.0, ('GRO38814', 'GRO85051', 'FRO40251'): 1.0, ('GRO73461', 'GRO85051', 'FRO40251'): 1.0}\n"
     ]
    }
   ],
   "source": [
    "s = 100 # support\n",
    "\n",
    "# Read browsing.txt\n",
    "with open('browsing.txt') as f:\n",
    "    transactions = f.readlines()\n",
    "\n",
    "\n",
    "# A Priori Algorithm\n",
    "# Pass 1: Count the frequency of each item\n",
    "## Items that appear in at least s transactions are frequent\n",
    "# Keep only frequent items\n",
    "items = {}\n",
    "for transaction in transactions:\n",
    "    for item in transaction.split():\n",
    "        if item in items:\n",
    "            items[item] += 1\n",
    "        else:\n",
    "            items[item] = 1\n",
    "frequent_items = {item: freq for item, freq in items.items() if freq >= s}\n",
    "\n",
    "print(len(frequent_items))\n",
    "\n",
    "# Pass 2: Read baskets again and keep track of the count of only those pairs where both elements are frequent (from Pass 1)\n",
    "item_pairs = {}\n",
    "\n",
    "for transaction in transactions:\n",
    "    basket = transaction.split()\n",
    "    basket = [item for item in basket if item in frequent_items]\n",
    "    basket.sort()\n",
    "    for i in range(len(basket)): # i is the index of the first item\n",
    "        for j in range(i+1, len(basket)): # j is the index of the second item\n",
    "            if (basket[j] != basket[i]):\n",
    "                #print(basket[i], basket[j])\n",
    "                pair = (basket[i], basket[j])\n",
    "                if pair in item_pairs:\n",
    "                    item_pairs[pair] += 1\n",
    "                else:\n",
    "                    item_pairs[pair] = 1\n",
    "frequent_item_pairs = {pair: freq for pair, freq in item_pairs.items() if freq >= s}\n",
    "\n",
    "print(len(frequent_item_pairs))\n",
    "# Top 5 pairs by frequency\n",
    "print({pair: freq for pair, freq in sorted(frequent_item_pairs.items(), key=lambda item: item[1], reverse=True)[:5]})\n",
    "\n",
    "# Compute confidence scores\n",
    "# Conf(X -> Y) = freq(X, Y) / freq(X)\n",
    "# Conf(Y -> X) = freq(X, Y) / freq(Y) \n",
    "# Confidence score for each pair of items in frequent_item_pairs\n",
    "confidence_scores = {}\n",
    "for pair, freq in frequent_item_pairs.items():\n",
    "    confidence_scores[pair] = freq / frequent_items[pair[0]] # Get the confidence score for X -> Y\n",
    "    confidence_scores[(pair[1], pair[0])] = freq / frequent_items[pair[1]] # Get the confidence score for Y -> X\n",
    "\n",
    "# Sort high to low, show top 5\n",
    "print({pair: score for pair, score in sorted(confidence_scores.items(), key=lambda item: item[1], reverse=True)[:5]})\n",
    "\n",
    "# Pass 3: Read the baskets again and keep track of the frequency of each triple of items (where all three are frequent)\n",
    "item_triples = {}\n",
    "for transaction in transactions:\n",
    "    basket = transaction.split()\n",
    "    basket = [item for item in basket if item in frequent_items]\n",
    "    basket.sort()\n",
    "    for i in range(len(basket)): # i is the index of the first item\n",
    "        for j in range(i+1, len(basket)): # j is the index of the second item\n",
    "            for k in range(j+1, len(basket)): # k is the index of the third item\n",
    "                if (basket[j] != basket[i]) and (basket[k] != basket[i]) and (basket[k] != basket[j]):\n",
    "                    triple = (basket[i], basket[j], basket[k])\n",
    "                    if triple in item_triples:\n",
    "                        item_triples[triple] += 1\n",
    "                    else:\n",
    "                        item_triples[triple] = 1\n",
    "frequent_item_triples = {triple: freq for triple, freq in item_triples.items() if freq >= s}\n",
    "\n",
    "print({pair: freq for pair, freq in sorted(frequent_item_triples.items(), key=lambda item: item[1], reverse=True)[:5]})\n",
    "\n",
    "# Compute confidence scores\n",
    "# Conf(X, Y -> Z) = freq(X, Y, Z) / freq(X, Y)\n",
    "# Conf(X, Z -> Y) = freq(X, Y, Z) / freq(X, Z)\n",
    "# Confidence score for each pair of items in frequent_item_pairs\n",
    "confidence_scores = {}\n",
    "for triple, freq in frequent_item_triples.items():\n",
    "    confidence_scores[triple] = freq / frequent_item_pairs[triple[:2]] # Get the confidence score for X, Y -> Z\n",
    "    confidence_scores[(triple[0], triple[2], triple[1])] = freq / frequent_item_pairs[(triple[0], triple[2])] # Get the confidence score for X, Z -> Y\n",
    "    confidence_scores[(triple[1], triple[2], triple[0])] = freq / frequent_item_pairs[(triple[1], triple[2])] # Get the confidence score for Y, Z -> X\n",
    "\n",
    "# Sort high to low, show top 5\n",
    "sorted_confidence_triples = {pair: score for pair, score in sorted(confidence_scores.items(), key=lambda item: item[1], reverse=True)[:5]}\n",
    "\n",
    "# Sort by lexicographic order\n",
    "print({pair: score for pair, score in sorted(sorted_confidence_triples.items(), key=lambda item: item[0])})"
   ]
  },
  {
   "cell_type": "code",
   "execution_count": 91,
   "metadata": {},
   "outputs": [
    {
     "name": "stdout",
     "output_type": "stream",
     "text": [
      "1334\n",
      "{('DAI62779', 'ELE17451'): 1592, ('FRO40251', 'SNA80324'): 1412, ('DAI75645', 'FRO40251'): 1254, ('FRO40251', 'GRO85051'): 1213, ('DAI62779', 'GRO73461'): 1139}\n"
     ]
    },
    {
     "data": {
      "text/plain": [
       "{('DAI93865', 'FRO40251'): 1.0,\n",
       " ('ELE12951', 'FRO40251'): 0.9905660377358491,\n",
       " ('DAI88079', 'FRO40251'): 0.9867256637168141,\n",
       " ('DAI43868', 'SNA82528'): 0.972972972972973,\n",
       " ('DAI23334', 'DAI62779'): 0.9545454545454546}"
      ]
     },
     "execution_count": 91,
     "metadata": {},
     "output_type": "execute_result"
    }
   ],
   "source": []
  },
  {
   "cell_type": "code",
   "execution_count": 85,
   "metadata": {},
   "outputs": [
    {
     "data": {
      "text/plain": [
       "{('DAI55911', 'GRO85051', 'FRO40251'): 1.0,\n",
       " ('DAI75645', 'GRO85051', 'FRO40251'): 1.0,\n",
       " ('ELE17451', 'GRO85051', 'FRO40251'): 1.0,\n",
       " ('ELE20847', 'GRO85051', 'FRO40251'): 1.0,\n",
       " ('ELE26917', 'GRO85051', 'FRO40251'): 1.0}"
      ]
     },
     "execution_count": 85,
     "metadata": {},
     "output_type": "execute_result"
    }
   ],
   "source": [
    "# Pass 3: Read the baskets again and keep track of the frequency of each triple of items (where all three are frequent)\n",
    "item_triples = {}\n",
    "for transaction in transactions:\n",
    "    basket = transaction.split()\n",
    "    basket = [item for item in basket if item in frequent_items]\n",
    "    basket.sort()\n",
    "    for i in range(len(basket)): # i is the index of the first item\n",
    "        for j in range(i+1, len(basket)): # j is the index of the second item\n",
    "            for k in range(j+1, len(basket)): # k is the index of the third item\n",
    "                if (basket[j] != basket[i]) and (basket[k] != basket[i]) and (basket[k] != basket[j]):\n",
    "                    triple = (basket[i], basket[j], basket[k])\n",
    "                    if triple in item_triples:\n",
    "                        item_triples[triple] += 1\n",
    "                    else:\n",
    "                        item_triples[triple] = 1\n",
    "frequent_item_triples = {triple: freq for triple, freq in item_triples.items() if freq >= s}\n",
    "\n",
    "# Compute confidence scores\n",
    "# Conf(X, Y -> Z) = freq(X, Y, Z) / freq(X, Y)\n",
    "# Conf(X, Z -> Y) = freq(X, Y, Z) / freq(X, Z)\n",
    "# Confidence score for each pair of items in frequent_item_pairs\n",
    "confidence_scores_1 = {}\n",
    "confidence_scores_2 = {}\n",
    "confidence_scores_3 = {}\n",
    "for triple, freq in frequent_item_triples.items():\n",
    "    confidence_scores_1[(triple[0], triple[1], triple[2])] = freq / frequent_item_pairs[(triple[0], triple[1])] # Get the confidence score for X, Y -> Z\n",
    "    confidence_scores_2[(triple[1], triple[2], triple[0])] = freq / frequent_item_pairs[(triple[1], triple[2])] # Get the confidence score for Y, Z -> X\n",
    "    confidence_scores_3[(triple[0], triple[2], triple[1])] = freq / frequent_item_pairs[(triple[0], triple[2])] # Get the confidence score for X, Z -> Y\n",
    "\n",
    "    #confidence_scores[(triple[0], triple[2], triple[1])] = freq / frequent_item_pairs[(triple[0], triple[2])] # Get the confidence score for X, Z -> Y\n",
    "    #confidence_scores[(triple[1], triple[2], triple[0])] = freq / frequent_item_pairs[(triple[1], triple[2])] # Get the confidence score for Y, Z -> X\n",
    "\n",
    "# Sort high to low, show top 5\n",
    "sorted_confidence_triples_1 = {pair: score for pair, score in sorted(confidence_scores_1.items(), key=lambda item: item[1], reverse=True)[:5]}\n",
    "sorted_confidence_triples_2 = {pair: score for pair, score in sorted(confidence_scores_2.items(), key=lambda item: item[1], reverse=True)[:5]}\n",
    "sorted_confidence_triples_3 = {pair: score for pair, score in sorted(confidence_scores_3.items(), key=lambda item: item[1], reverse=True)[:5]}\n",
    "\n",
    "# Sort by lexicographic order\n",
    "{pair: score for pair, score in sorted(sorted_confidence_triples_1.items(), key=lambda item: item[0])}\n",
    "{pair: score for pair, score in sorted(sorted_confidence_triples_2.items(), key=lambda item: item[0])}\n",
    "{pair: score for pair, score in sorted(sorted_confidence_triples_3.items(), key=lambda item: item[0])}"
   ]
  },
  {
   "cell_type": "code",
   "execution_count": 88,
   "metadata": {},
   "outputs": [
    {
     "data": {
      "text/plain": [
       "{('DAI55911', 'GRO85051', 'FRO40251'): 1.0,\n",
       " ('DAI75645', 'GRO85051', 'FRO40251'): 1.0,\n",
       " ('ELE17451', 'GRO85051', 'FRO40251'): 1.0,\n",
       " ('ELE20847', 'GRO85051', 'FRO40251'): 1.0,\n",
       " ('ELE26917', 'GRO85051', 'FRO40251'): 1.0}"
      ]
     },
     "execution_count": 88,
     "metadata": {},
     "output_type": "execute_result"
    }
   ],
   "source": [
    "{pair: score for pair, score in sorted(sorted_confidence_triples_3.items(), key=lambda item: item[0])}"
   ]
  },
  {
   "cell_type": "code",
   "execution_count": 87,
   "metadata": {},
   "outputs": [
    {
     "data": {
      "text/plain": [
       "{('FRO53271', 'GRO85051', 'FRO40251'): 1.0,\n",
       " ('GRO38814', 'GRO85051', 'FRO40251'): 1.0,\n",
       " ('GRO73461', 'GRO85051', 'FRO40251'): 1.0,\n",
       " ('GRO85051', 'SNA45677', 'FRO40251'): 1.0,\n",
       " ('GRO85051', 'SNA80324', 'FRO40251'): 1.0}"
      ]
     },
     "execution_count": 87,
     "metadata": {},
     "output_type": "execute_result"
    }
   ],
   "source": [
    "{pair: score for pair, score in sorted(sorted_confidence_triples_2.items(), key=lambda item: item[0])}"
   ]
  },
  {
   "cell_type": "code",
   "execution_count": 86,
   "metadata": {},
   "outputs": [
    {
     "data": {
      "text/plain": [
       "{('DAI42083', 'DAI62779', 'DAI92600'): 0.8974358974358975,\n",
       " ('DAI62779', 'DAI88079', 'FRO40251'): 1.0,\n",
       " ('DAI75645', 'DAI88079', 'FRO40251'): 0.9932885906040269,\n",
       " ('DAI88079', 'ELE17451', 'FRO40251'): 0.9919354838709677,\n",
       " ('FRO19221', 'SNA53220', 'SNA93860'): 0.7354838709677419}"
      ]
     },
     "execution_count": 86,
     "metadata": {},
     "output_type": "execute_result"
    }
   ],
   "source": [
    "{pair: score for pair, score in sorted(sorted_confidence_triples_1.items(), key=lambda item: item[0])}"
   ]
  }
 ],
 "metadata": {
  "kernelspec": {
   "display_name": "Python 3",
   "language": "python",
   "name": "python3"
  },
  "language_info": {
   "codemirror_mode": {
    "name": "ipython",
    "version": 3
   },
   "file_extension": ".py",
   "mimetype": "text/x-python",
   "name": "python",
   "nbconvert_exporter": "python",
   "pygments_lexer": "ipython3",
   "version": "3.10.8"
  }
 },
 "nbformat": 4,
 "nbformat_minor": 2
}
