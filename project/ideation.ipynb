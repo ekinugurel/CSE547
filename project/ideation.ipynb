{
 "cells": [
  {
   "cell_type": "markdown",
   "metadata": {},
   "source": [
    "# CSE 547 Project\n",
    "## Ekin Ugurel, Kaitlyn Ng, Derek Tropf, Katie Overengland\n",
    "### April 17, 2024\n",
    "\n",
    "#### Title Ideas:\n",
    "* A behaviorally-informed, spatiotemporal-aware frequent pattern mining framework for passively-generated trajectory data"
   ]
  },
  {
   "cell_type": "markdown",
   "metadata": {},
   "source": [
    "## Introduction"
   ]
  },
  {
   "cell_type": "markdown",
   "metadata": {},
   "source": [
    "## Literature Review\n",
    "\n",
    "### Shou and Di, 2018. Similarity analysis of frequent sequential activity pattern mining. Transportation Research Part C, 96, 122-143.\n",
    "This paper lays out a state-of-the-art methodological framework for analyzing inter- and intra-person, multi-day travel behavior similarity via frequent pattern mining. Specifically, the authors define similarity measures to (1) assess the extent to which two travelers' activity patterns are alike; and (2) calculate an individual's behavior regularity in between different days. Based on the defined methodology, the paper presents hierarchical clustering results to contextualize different travelers with respect to their sociodemographic variables (i.e., age, gender, employment status, number of household vehicles, etc.). Furthermore, they conduct multinomial logistic regression (MLM) to model the extent to which the above variables can explain the extracted travel behavior patterns. \n",
    "\n",
    "The authors leverage a connected-vehicle (\"Safety Pilot\") dataset from Ann Arbor, Michigan, sampling in-vehicle GPS trackers at a frequency of 10 Hz (i.e., every 0.1 seconds). In total, they analyze 349 individuals, extracting 19,130 travel activity sequences. The bulk of their analysis is concentrated on weekdays between January 1st, 2013 and December 31st, 2015. \n",
    "\n",
    "##### $\\textbf{Limitations}$\n",
    "* Methodologically, spatial or temporal dimensions of similarity is not at all considered in the presented framework. That is, two places that are similar semantically (e.g., \"home\", \"work\", \"gym\") may indeed be far from each other geographically, and the time that they are visited is not accounted for methodologically. As a result, a person who had a daily travel sequence (i.e., \\{\"home\", \"work\", \"home\"\\}) that started at 9am and ended at 5pm would have a similarity score of $1$ with another person who had the same travel sequence, but starting it at 3pm and ending it at 11pm. \n",
    "* The connected-vehicle dataset only captures trips taken via privately-owned vehicles (i.e., household cars). Thus, trips taken by walks, public transit (albeit sparse in Ann Arbor), bicycles, or micromobility is not at all considered. Furthermore, less frequent travel activities, such as out-of-state roadtrips or flights, are also not captured. \n",
    "* The analysis only spans 349 individuals from a non-probabilistic sample. For example, over 70 percent of the respondents in the \"Safety Pilot\" dataset are female. Therefore, the results of the study are not at all generalizable to other geographies/populations.\n",
    "* More importantly, the authors make a set of simplifying assumptions that may induce bias in their inferences. Firstly, to infer the purpose of a trip (i.e., an individual's reason to be at an activity location), they use the land use code associated with the POI in-question, except for home and work locations. Though this approach may yield reasonable results for well-zoned urban areas like Ann Arbor, it would not work at all for higher-density urban cores such as New York City or land-use-blind cities such as Houston, which either allows mixed zoning or has minimal zoning laws. Thus, a more robust approach is needed to infer trip purposes for a greater variety of urban areas.\n",
    "* Attribute interdependency is not accounted for in the presented framework. Travel behavior sequences have strong interdependencies. That is, where someone is at time $t$ can be causally influenced by that person's location at time $t-1$. For example, in general, most individuals end their day by going home, regardless of where they were before. Similarly, a trip to the hospital is most often followed by a trip to a pharmacy to pick up prescribed medicine. Not accounting for such causal interdependencies may lead to overestimating the similarity between or within individuals' travel sequences."
   ]
  },
  {
   "cell_type": "markdown",
   "metadata": {},
   "source": [
    "## Methodology"
   ]
  },
  {
   "cell_type": "markdown",
   "metadata": {},
   "source": [
    "## Data Description"
   ]
  },
  {
   "cell_type": "markdown",
   "metadata": {},
   "source": [
    "## Results"
   ]
  },
  {
   "cell_type": "markdown",
   "metadata": {},
   "source": [
    "## Discussion"
   ]
  },
  {
   "cell_type": "markdown",
   "metadata": {},
   "source": [
    "## References"
   ]
  }
 ],
 "metadata": {
  "language_info": {
   "name": "python"
  }
 },
 "nbformat": 4,
 "nbformat_minor": 2
}
